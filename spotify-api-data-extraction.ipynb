{
 "cells": [
  {
   "cell_type": "code",
   "execution_count": 70,
   "id": "42f9ec5f",
   "metadata": {},
   "outputs": [],
   "source": [
    "import spotipy\n",
    "from spotipy.oauth2 import SpotifyClientCredentials\n",
    "\n",
    "sp = spotipy.Spotify(auth_manager=SpotifyClientCredentials(client_id='YOUR-CLIENT-ID',\n",
    "                                                           client_secret='YOUR-CLIENT-SECRET'))"
   ]
  },
  {
   "cell_type": "code",
   "execution_count": 71,
   "id": "2d4e6864",
   "metadata": {},
   "outputs": [],
   "source": [
    "import pandas as pd"
   ]
  },
  {
   "cell_type": "code",
   "execution_count": 72,
   "id": "6b8bba18",
   "metadata": {},
   "outputs": [
    {
     "data": {
      "text/plain": [
       "<spotipy.client.Spotify at 0x7fb7e72412d0>"
      ]
     },
     "execution_count": 72,
     "metadata": {},
     "output_type": "execute_result"
    }
   ],
   "source": [
    "sp"
   ]
  },
  {
   "cell_type": "code",
   "execution_count": 5,
   "id": "81ea1fef",
   "metadata": {},
   "outputs": [],
   "source": [
    "def get_album_data(sp, album_id):\n",
    "    album = sp.album(album_id)\n",
    "    return album"
   ]
  },
  {
   "cell_type": "code",
   "execution_count": 6,
   "id": "b0c04c22",
   "metadata": {},
   "outputs": [],
   "source": [
    "results = sp.search(q='Virginia Beach', type='track')"
   ]
  },
  {
   "cell_type": "code",
   "execution_count": 8,
   "id": "11f39892",
   "metadata": {},
   "outputs": [],
   "source": [
    "df = get_album_data(sp, '35nmDyrcnDY4B1ISYpKEEs')"
   ]
  },
  {
   "cell_type": "code",
   "execution_count": 35,
   "id": "105a2126",
   "metadata": {},
   "outputs": [
    {
     "data": {
      "text/plain": [
       "pandas.core.frame.DataFrame"
      ]
     },
     "execution_count": 35,
     "metadata": {},
     "output_type": "execute_result"
    }
   ],
   "source": [
    "df2 = pd.DataFrame()\n",
    "type(df2)"
   ]
  },
  {
   "cell_type": "code",
   "execution_count": 9,
   "id": "932b3929",
   "metadata": {},
   "outputs": [
    {
     "data": {
      "text/plain": [
       "dict"
      ]
     },
     "execution_count": 9,
     "metadata": {},
     "output_type": "execute_result"
    }
   ],
   "source": [
    "type(df)"
   ]
  },
  {
   "cell_type": "code",
   "execution_count": 10,
   "id": "294c2c5f",
   "metadata": {},
   "outputs": [
    {
     "data": {
      "text/plain": [
       "dict_keys(['album_type', 'artists', 'available_markets', 'copyrights', 'external_ids', 'external_urls', 'genres', 'href', 'id', 'images', 'label', 'name', 'popularity', 'release_date', 'release_date_precision', 'total_tracks', 'tracks', 'type', 'uri'])"
      ]
     },
     "execution_count": 10,
     "metadata": {},
     "output_type": "execute_result"
    }
   ],
   "source": [
    "df.keys()"
   ]
  },
  {
   "cell_type": "code",
   "execution_count": 79,
   "id": "f4ed3e94",
   "metadata": {},
   "outputs": [
    {
     "data": {
      "text/plain": [
       "92"
      ]
     },
     "execution_count": 79,
     "metadata": {},
     "output_type": "execute_result"
    }
   ],
   "source": [
    "df['popularity']"
   ]
  },
  {
   "cell_type": "code",
   "execution_count": 11,
   "id": "98d30f54",
   "metadata": {},
   "outputs": [],
   "source": [
    "tracks_in_album = df['tracks']['items']"
   ]
  },
  {
   "cell_type": "code",
   "execution_count": 18,
   "id": "0df9979a",
   "metadata": {},
   "outputs": [],
   "source": [
    "def search_track(sp, track_name):\n",
    "    results = sp.search(q=track_name, type='track')\n",
    "    #Extract Popularity\n",
    "    return results['tracks']['items'][0]['popularity']"
   ]
  },
  {
   "cell_type": "code",
   "execution_count": 19,
   "id": "924ecbaa",
   "metadata": {},
   "outputs": [],
   "source": [
    "num = 0\n",
    "album_list = []\n",
    "for tracks in tracks_in_album:\n",
    "    album_list.append(tracks_in_album[num][\"name\"])\n",
    "    num += 1"
   ]
  },
  {
   "cell_type": "code",
   "execution_count": 20,
   "id": "c0b09299",
   "metadata": {},
   "outputs": [
    {
     "data": {
      "text/plain": [
       "['Virginia Beach',\n",
       " 'Amen (feat. Teezo Touchdown)',\n",
       " 'Calling For You (feat. 21 Savage)',\n",
       " 'Fear Of Heights',\n",
       " 'Daylight',\n",
       " 'First Person Shooter (feat. J. Cole)',\n",
       " 'IDGAF (feat. Yeat)',\n",
       " '7969 Santa',\n",
       " 'Slime You Out (feat. SZA)',\n",
       " 'Bahamas Promises',\n",
       " 'Tried Our Best',\n",
       " 'Screw The World - Interlude',\n",
       " 'Drew A Picasso',\n",
       " 'Members Only (feat. PARTYNEXTDOOR)',\n",
       " 'What Would Pluto Do',\n",
       " 'All The Parties (feat. Chief Keef)',\n",
       " '8am in Charlotte',\n",
       " 'BBL Love - Interlude',\n",
       " 'Gently (feat. Bad Bunny)',\n",
       " 'Rich Baby Daddy (feat. Sexyy Red & SZA)',\n",
       " 'Another Late Night (feat. Lil Yachty)',\n",
       " 'Away From Home',\n",
       " 'Polar Opposites']"
      ]
     },
     "execution_count": 20,
     "metadata": {},
     "output_type": "execute_result"
    }
   ],
   "source": [
    "album_list"
   ]
  },
  {
   "cell_type": "code",
   "execution_count": 80,
   "id": "55ed9e47",
   "metadata": {},
   "outputs": [
    {
     "name": "stdout",
     "output_type": "stream",
     "text": [
      "Song: Virginia Beach ===> Popularity Score: 84\n",
      "Song: Amen (feat. Teezo Touchdown) ===> Popularity Score: 81\n",
      "Song: Calling For You (feat. 21 Savage) ===> Popularity Score: 83\n",
      "Song: Fear Of Heights ===> Popularity Score: 82\n",
      "Song: Daylight ===> Popularity Score: 82\n",
      "Song: First Person Shooter (feat. J. Cole) ===> Popularity Score: 86\n",
      "Song: IDGAF (feat. Yeat) ===> Popularity Score: 86\n",
      "Song: 7969 Santa ===> Popularity Score: 81\n",
      "Song: Slime You Out (feat. SZA) ===> Popularity Score: 90\n",
      "Song: Bahamas Promises ===> Popularity Score: 80\n",
      "Song: Tried Our Best ===> Popularity Score: 80\n",
      "Song: Screw The World - Interlude ===> Popularity Score: 77\n",
      "Song: Drew A Picasso ===> Popularity Score: 79\n",
      "Song: Members Only (feat. PARTYNEXTDOOR) ===> Popularity Score: 80\n",
      "Song: What Would Pluto Do ===> Popularity Score: 80\n",
      "Song: All The Parties (feat. Chief Keef) ===> Popularity Score: 79\n",
      "Song: 8am in Charlotte ===> Popularity Score: 81\n",
      "Song: BBL Love - Interlude ===> Popularity Score: 77\n",
      "Song: Gently (feat. Bad Bunny) ===> Popularity Score: 83\n",
      "Song: Rich Baby Daddy (feat. Sexyy Red & SZA) ===> Popularity Score: 82\n",
      "Song: Another Late Night (feat. Lil Yachty) ===> Popularity Score: 79\n",
      "Song: Away From Home ===> Popularity Score: 78\n",
      "Song: Polar Opposites ===> Popularity Score: 77\n"
     ]
    }
   ],
   "source": [
    "for album_song in album_list:\n",
    "    popularity = search_track(sp, album_song)\n",
    "    if album_song == \"Daylight\":\n",
    "        popularity = search_track(sp, f'{album_song} + drake')\n",
    "        print(f'Song: {album_song} ===> Popularity Score: {popularity}')\n",
    "    else:\n",
    "        print(f'Song: {album_song} ===> Popularity Score: {popularity}')"
   ]
  },
  {
   "cell_type": "code",
   "execution_count": null,
   "id": "1ac0944d",
   "metadata": {},
   "outputs": [],
   "source": [
    "sp"
   ]
  },
  {
   "cell_type": "code",
   "execution_count": null,
   "id": "a70d2b3f",
   "metadata": {},
   "outputs": [],
   "source": []
  }
 ],
 "metadata": {
  "kernelspec": {
   "display_name": "conda_python3",
   "language": "python",
   "name": "conda_python3"
  },
  "language_info": {
   "codemirror_mode": {
    "name": "ipython",
    "version": 3
   },
   "file_extension": ".py",
   "mimetype": "text/x-python",
   "name": "python",
   "nbconvert_exporter": "python",
   "pygments_lexer": "ipython3",
   "version": "3.10.12"
  }
 },
 "nbformat": 4,
 "nbformat_minor": 5
}
